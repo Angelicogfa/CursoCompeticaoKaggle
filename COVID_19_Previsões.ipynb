{
  "nbformat": 4,
  "nbformat_minor": 0,
  "metadata": {
    "colab": {
      "name": "COVID-19 - Previsões.ipynb",
      "provenance": [],
      "collapsed_sections": []
    },
    "kernelspec": {
      "name": "python3",
      "display_name": "Python 3",
      "language": "python"
    },
    "accelerator": "GPU"
  },
  "cells": [
    {
      "cell_type": "markdown",
      "metadata": {
        "id": "RsGk8NgXIJ0V"
      },
      "source": [
        "# COVID-19 - Previsões\n",
        "\n",
        "- Link Kaggle: https://www.kaggle.com/sudalairajkumar/novel-corona-virus-2019-dataset"
      ]
    },
    {
      "cell_type": "markdown",
      "metadata": {
        "id": "D7dSKTYu8Urg"
      },
      "source": [
        "# Importação das bibliotecas"
      ]
    },
    {
      "cell_type": "code",
      "metadata": {
        "id": "14So8aVJkWuB",
        "colab": {
          "base_uri": "https://localhost:8080/",
          "height": 70
        },
        "outputId": "d816faeb-b2bf-4b91-eac6-880fad8d68c4"
      },
      "source": [
        "import numpy as np \n",
        "import matplotlib.pyplot as plt \n",
        "import pandas as pd \n",
        "from sklearn.model_selection import train_test_split\n",
        "from sklearn.metrics import mean_absolute_error, mean_squared_error\n",
        "import seaborn as sns"
      ],
      "execution_count": null,
      "outputs": []
    },
    {
      "cell_type": "markdown",
      "metadata": {
        "id": "dx_OVgwqqy0p"
      },
      "source": [
        "# Exploração das bases de dados"
      ]
    },
    {
      "cell_type": "markdown",
      "metadata": {
        "id": "2_0w-yQG9RxH"
      },
      "source": [
        "## Covid-19"
      ]
    },
    {
      "cell_type": "code",
      "metadata": {
        "id": "-BbtOIduJJV_"
      },
      "source": [
        "covid = pd.read_csv('./datasets/covid_19_data.csv')"
      ],
      "execution_count": null,
      "outputs": []
    },
    {
      "cell_type": "code",
      "metadata": {
        "id": "telECGMeJQNm",
        "colab": {
          "base_uri": "https://localhost:8080/",
          "height": 34
        },
        "outputId": "e6fc88e0-2b67-40b8-b46b-b5e637b1ec50"
      },
      "source": [
        "covid.shape"
      ],
      "execution_count": null,
      "outputs": []
    },
    {
      "cell_type": "code",
      "metadata": {
        "id": "GX89tYOIJTjj",
        "colab": {
          "base_uri": "https://localhost:8080/",
          "height": 195
        },
        "outputId": "bd2455fd-3dc0-41ca-dfee-ee5b41bfb4ff"
      },
      "source": [
        "covid.head()"
      ],
      "execution_count": null,
      "outputs": []
    },
    {
      "cell_type": "code",
      "metadata": {
        "id": "4phTomE3JnzK",
        "colab": {
          "base_uri": "https://localhost:8080/",
          "height": 34
        },
        "outputId": "1643f13d-028d-4419-f41d-8b629d902e2c"
      },
      "source": [
        "df_brasil = covid[covid['Country/Region'] == 'Brazil']\n",
        "df_brasil.shape"
      ],
      "execution_count": null,
      "outputs": []
    },
    {
      "cell_type": "code",
      "metadata": {
        "id": "GwlfvpT9J7a7",
        "colab": {
          "base_uri": "https://localhost:8080/",
          "height": 965
        },
        "outputId": "31ec54da-1fdb-4b4b-df44-173faa952479"
      },
      "source": [
        "df_brasil.head()"
      ],
      "execution_count": null,
      "outputs": []
    },
    {
      "cell_type": "code",
      "metadata": {
        "id": "qlk9FqTZKRIs",
        "colab": {
          "base_uri": "https://localhost:8080/",
          "height": 279
        },
        "outputId": "4b4c8c90-a65e-46aa-8334-64329c22bd85"
      },
      "source": [
        "sns.lineplot(df_brasil['ObservationDate'], df_brasil['Confirmed']);"
      ],
      "execution_count": null,
      "outputs": []
    },
    {
      "cell_type": "code",
      "metadata": {
        "id": "lhhhAmkvKedc"
      },
      "source": [
        "df_sum = covid.groupby('ObservationDate').agg({'Confirmed': 'sum', 'Deaths': 'sum', 'Recovered': 'sum'}).reset_index()"
      ],
      "execution_count": null,
      "outputs": []
    },
    {
      "cell_type": "code",
      "metadata": {
        "id": "KrLlfpUhK6NO",
        "colab": {
          "base_uri": "https://localhost:8080/",
          "height": 195
        },
        "outputId": "5e494829-bdba-4ee7-89f2-de3254143cbb"
      },
      "source": [
        "df_sum.head()"
      ],
      "execution_count": null,
      "outputs": []
    },
    {
      "cell_type": "code",
      "metadata": {
        "id": "X2hQKzxaK_jO",
        "colab": {
          "base_uri": "https://localhost:8080/",
          "height": 195
        },
        "outputId": "c97d17f2-c7e1-453e-fb66-6b6abacb6cf4"
      },
      "source": [
        "df_sum.tail()"
      ],
      "execution_count": null,
      "outputs": []
    },
    {
      "cell_type": "code",
      "metadata": {
        "id": "M3RXTZ90LJx1",
        "colab": {
          "base_uri": "https://localhost:8080/",
          "height": 283
        },
        "outputId": "a153e3f2-90cf-481c-a842-f8f83a033ba0"
      },
      "source": [
        "plt.stackplot(df_sum['ObservationDate'], [df_sum['Confirmed'], df_sum['Deaths'], df_sum['Recovered']],\n",
        "              labels = ['Confirmed', 'Deaths', 'Recovered'])\n",
        "plt.legend(loc = 'upper left')"
      ],
      "execution_count": null,
      "outputs": []
    },
    {
      "cell_type": "code",
      "metadata": {
        "id": "dXVdFrQgMNmi",
        "colab": {
          "base_uri": "https://localhost:8080/",
          "height": 764
        },
        "outputId": "e49c0385-8c88-4f09-b47c-01b1a2a18fc5"
      },
      "source": [
        "sns.pairplot(covid)"
      ],
      "execution_count": null,
      "outputs": []
    },
    {
      "cell_type": "markdown",
      "metadata": {
        "id": "cTLqw0G_9XXX"
      },
      "source": [
        "## Covid-19 line_list_data"
      ]
    },
    {
      "cell_type": "code",
      "metadata": {
        "id": "LIQSkSqgMwj_"
      },
      "source": [
        "line_list_df = pd.read_csv('./datasets/COVID19_line_list_data.csv')"
      ],
      "execution_count": null,
      "outputs": []
    },
    {
      "cell_type": "code",
      "metadata": {
        "id": "5rE9ptI9M0_c",
        "colab": {
          "base_uri": "https://localhost:8080/",
          "height": 34
        },
        "outputId": "67f97f77-72d3-4454-bf4e-1d2318127008"
      },
      "source": [
        "line_list_df.shape"
      ],
      "execution_count": null,
      "outputs": []
    },
    {
      "cell_type": "code",
      "metadata": {
        "id": "pj7uXUnEM5Bx",
        "colab": {
          "base_uri": "https://localhost:8080/",
          "height": 311
        },
        "outputId": "b7f99b5c-ad0d-4ac9-ccc2-8fa2fa71b03d"
      },
      "source": [
        "line_list_df.head(2)"
      ],
      "execution_count": null,
      "outputs": []
    },
    {
      "cell_type": "code",
      "metadata": {
        "id": "3xFlEAZgNPBa",
        "colab": {
          "base_uri": "https://localhost:8080/",
          "height": 296
        },
        "outputId": "5e5d23dd-3424-47d9-dc60-989bd91ed4ef"
      },
      "source": [
        "sns.distplot(line_list_df['age'])"
      ],
      "execution_count": null,
      "outputs": []
    },
    {
      "cell_type": "markdown",
      "metadata": {
        "id": "bMXNgJby2or-"
      },
      "source": [
        "# Previsões de mortes por COVID-19"
      ]
    },
    {
      "cell_type": "markdown",
      "metadata": {
        "id": "poQ0tLoBGTRQ"
      },
      "source": [
        "## Preparação da base de dados\n",
        "\n",
        "- Preparação dos dados baseado em: https://www.kaggle.com/chaudharijay2000/prediction-of-death-and-confirmed-cases-covid-19"
      ]
    },
    {
      "cell_type": "code",
      "metadata": {
        "id": "PKP1nazrK83B"
      },
      "source": [
        "deaths_df = pd.read_csv('./datasets/time_series_covid_19_deaths.csv')"
      ],
      "execution_count": null,
      "outputs": []
    },
    {
      "cell_type": "code",
      "metadata": {
        "id": "xQUczFQaL20K",
        "colab": {
          "base_uri": "https://localhost:8080/",
          "height": 34
        },
        "outputId": "7c330bc3-dc61-465f-80e8-e038e952ccfe"
      },
      "source": [
        "deaths_df.shape"
      ],
      "execution_count": null,
      "outputs": []
    },
    {
      "cell_type": "code",
      "metadata": {
        "id": "dY1hkqVWL782",
        "colab": {
          "base_uri": "https://localhost:8080/",
          "height": 215
        },
        "outputId": "a3b4626f-32b0-42e0-b207-ded524d1c94d"
      },
      "source": [
        "deaths_df.head()"
      ],
      "execution_count": null,
      "outputs": []
    },
    {
      "cell_type": "code",
      "metadata": {
        "id": "qhOCTT1fMYBE",
        "colab": {
          "base_uri": "https://localhost:8080/",
          "height": 249
        },
        "outputId": "65572962-d38d-4272-9c09-41818b77d9f1"
      },
      "source": [
        "deaths_df.tail()"
      ],
      "execution_count": null,
      "outputs": []
    },
    {
      "cell_type": "code",
      "metadata": {
        "id": "JEs7z04NMke-",
        "colab": {
          "base_uri": "https://localhost:8080/",
          "height": 97
        },
        "outputId": "2f9f8f7f-d2e9-41f1-a526-b59f051a7a4d"
      },
      "source": [
        "deaths_df[deaths_df['Country/Region'] == 'Brazil']"
      ],
      "execution_count": null,
      "outputs": []
    },
    {
      "cell_type": "code",
      "metadata": {
        "id": "iKQuGjecM0ss",
        "colab": {
          "base_uri": "https://localhost:8080/",
          "height": 218
        },
        "outputId": "95ca2d41-153b-43bb-adb7-9b2541c959a1"
      },
      "source": [
        "columns = deaths_df.keys()\n",
        "columns"
      ],
      "execution_count": null,
      "outputs": []
    },
    {
      "cell_type": "code",
      "metadata": {
        "id": "zzg1uDcgNAWH"
      },
      "source": [
        "deaths_df = deaths_df.loc[:, columns[4]:columns[-1]]"
      ],
      "execution_count": null,
      "outputs": []
    },
    {
      "cell_type": "code",
      "metadata": {
        "id": "s7PtKLtwNXMt",
        "colab": {
          "base_uri": "https://localhost:8080/",
          "height": 215
        },
        "outputId": "b7a49474-a299-4bd5-d387-1e22a7741afc"
      },
      "source": [
        "deaths_df.head()"
      ],
      "execution_count": null,
      "outputs": []
    },
    {
      "cell_type": "code",
      "metadata": {
        "id": "8SYtVan8Nc-h",
        "colab": {
          "base_uri": "https://localhost:8080/",
          "height": 218
        },
        "outputId": "c23269c8-1df0-4788-cf18-7917b389786c"
      },
      "source": [
        "deaths_df.keys()"
      ],
      "execution_count": null,
      "outputs": []
    },
    {
      "cell_type": "code",
      "metadata": {
        "id": "lZFfg4euNnMX",
        "colab": {
          "base_uri": "https://localhost:8080/",
          "height": 34
        },
        "outputId": "6a25f8a1-ff31-4068-d8ac-e49ef9145c98"
      },
      "source": [
        "len(deaths_df.keys())"
      ],
      "execution_count": null,
      "outputs": []
    },
    {
      "cell_type": "code",
      "metadata": {
        "id": "snwhy7FlN2I_",
        "colab": {
          "base_uri": "https://localhost:8080/",
          "height": 34
        },
        "outputId": "666e51ad-cf92-4cb5-b8ff-5c2d55cb001a"
      },
      "source": [
        "deaths_df['1/22/20'].sum()"
      ],
      "execution_count": null,
      "outputs": []
    },
    {
      "cell_type": "code",
      "metadata": {
        "id": "NRoqFBPnOC_0",
        "colab": {
          "base_uri": "https://localhost:8080/",
          "height": 34
        },
        "outputId": "2c59e736-f32c-4fad-99d2-9532e9c37f2a"
      },
      "source": [
        "deaths_df['3/26/20'].sum()"
      ],
      "execution_count": null,
      "outputs": []
    },
    {
      "cell_type": "code",
      "metadata": {
        "id": "O5Fb1ZKDPEpW"
      },
      "source": [
        "dates = deaths_df.keys()\n",
        "y = []\n",
        "for i in dates:\n",
        "  #print(i)\n",
        "  y.append(deaths_df[i].sum())"
      ],
      "execution_count": null,
      "outputs": []
    },
    {
      "cell_type": "code",
      "metadata": {
        "id": "Lkg6vNj4PoXx",
        "colab": {
          "base_uri": "https://localhost:8080/",
          "height": 54
        },
        "outputId": "deeb6a29-643d-4b6e-e8b2-1bb764f50016"
      },
      "source": [
        "print(y)"
      ],
      "execution_count": null,
      "outputs": []
    },
    {
      "cell_type": "code",
      "metadata": {
        "id": "v3QsU_D5PuRP",
        "colab": {
          "base_uri": "https://localhost:8080/",
          "height": 34
        },
        "outputId": "87053830-a63d-404e-b273-69759b7c61e1"
      },
      "source": [
        "len(y)"
      ],
      "execution_count": null,
      "outputs": []
    },
    {
      "cell_type": "code",
      "metadata": {
        "id": "n3tvsBtdP1S5",
        "colab": {
          "base_uri": "https://localhost:8080/",
          "height": 34
        },
        "outputId": "bf78b2a6-dff6-4839-ec7e-b78eee81872f"
      },
      "source": [
        "type(y)"
      ],
      "execution_count": null,
      "outputs": []
    },
    {
      "cell_type": "code",
      "metadata": {
        "id": "ERB4-wNOP4JX"
      },
      "source": [
        "y = np.array(y).reshape(-1,1)"
      ],
      "execution_count": null,
      "outputs": []
    },
    {
      "cell_type": "code",
      "metadata": {
        "id": "GB2SGX25P_xm",
        "colab": {
          "base_uri": "https://localhost:8080/",
          "height": 34
        },
        "outputId": "c1823cbc-7a2a-4565-ccb9-f940a2345579"
      },
      "source": [
        "y.shape"
      ],
      "execution_count": null,
      "outputs": []
    },
    {
      "cell_type": "code",
      "metadata": {
        "id": "qlraObe6QF8T",
        "colab": {
          "base_uri": "https://localhost:8080/",
          "height": 1000
        },
        "outputId": "4481656c-5f96-4ea9-d7d7-d680a9c2353a"
      },
      "source": [
        "print(y)"
      ],
      "execution_count": null,
      "outputs": []
    },
    {
      "cell_type": "code",
      "metadata": {
        "id": "h4p6AP5OQMDP"
      },
      "source": [
        "X = np.arange(len(dates)).reshape(-1,1)"
      ],
      "execution_count": null,
      "outputs": []
    },
    {
      "cell_type": "code",
      "metadata": {
        "id": "iOj-wZ0wQyh-",
        "colab": {
          "base_uri": "https://localhost:8080/",
          "height": 34
        },
        "outputId": "23d0c92e-0713-43af-a321-fd6859bdecca"
      },
      "source": [
        "X.shape"
      ],
      "execution_count": null,
      "outputs": []
    },
    {
      "cell_type": "code",
      "metadata": {
        "id": "ZOcYa6otQ5JA",
        "colab": {
          "base_uri": "https://localhost:8080/",
          "height": 1000
        },
        "outputId": "9dc21ab2-4b95-4d38-d0f9-86a03cdd2430"
      },
      "source": [
        "print(X)"
      ],
      "execution_count": null,
      "outputs": []
    },
    {
      "cell_type": "code",
      "metadata": {
        "id": "2Sa00I48RN1w"
      },
      "source": [
        "forecast = np.arange(len(dates) + 10).reshape(-1,1)"
      ],
      "execution_count": null,
      "outputs": []
    },
    {
      "cell_type": "code",
      "metadata": {
        "id": "2hhfKKt3RiTF",
        "colab": {
          "base_uri": "https://localhost:8080/",
          "height": 34
        },
        "outputId": "f67acb26-4ccd-415e-8fba-89ed6e2202e1"
      },
      "source": [
        "forecast.shape"
      ],
      "execution_count": null,
      "outputs": []
    },
    {
      "cell_type": "code",
      "metadata": {
        "id": "CPnGsYLuRmIq",
        "colab": {
          "base_uri": "https://localhost:8080/",
          "height": 1000
        },
        "outputId": "2eabddf6-de76-4eb0-c868-f309295f3abd"
      },
      "source": [
        "print(forecast)"
      ],
      "execution_count": null,
      "outputs": []
    },
    {
      "cell_type": "code",
      "metadata": {
        "id": "-hQDnxnpRyGY"
      },
      "source": [
        "X_train, X_test, y_train, y_test = train_test_split(X, y, test_size = 0.15, shuffle = False)"
      ],
      "execution_count": null,
      "outputs": []
    },
    {
      "cell_type": "code",
      "metadata": {
        "id": "xt8nobO-SDyI",
        "colab": {
          "base_uri": "https://localhost:8080/",
          "height": 185
        },
        "outputId": "e20dd228-e2f6-42f7-e047-15b3d0c7a405"
      },
      "source": [
        "X_test"
      ],
      "execution_count": null,
      "outputs": []
    },
    {
      "cell_type": "code",
      "metadata": {
        "id": "NNiBQvzkSM2P",
        "colab": {
          "base_uri": "https://localhost:8080/",
          "height": 185
        },
        "outputId": "f7deca66-e7e0-48fd-e48b-8a12eac547a6"
      },
      "source": [
        "y_test"
      ],
      "execution_count": null,
      "outputs": []
    },
    {
      "cell_type": "code",
      "metadata": {
        "id": "vTpxWpKMSTBG",
        "colab": {
          "base_uri": "https://localhost:8080/",
          "height": 34
        },
        "outputId": "e46123bc-25de-42d5-ae8e-04f2b4045faa"
      },
      "source": [
        "X_train.shape"
      ],
      "execution_count": null,
      "outputs": []
    },
    {
      "cell_type": "code",
      "metadata": {
        "id": "RlIgw_C6SW56",
        "colab": {
          "base_uri": "https://localhost:8080/",
          "height": 34
        },
        "outputId": "3da86e99-f38d-481f-f1d1-eca3840fa4f6"
      },
      "source": [
        "y_train.shape"
      ],
      "execution_count": null,
      "outputs": []
    },
    {
      "cell_type": "code",
      "metadata": {
        "id": "jWpLjNihSbnj",
        "colab": {
          "base_uri": "https://localhost:8080/",
          "height": 34
        },
        "outputId": "bf9071b3-4a83-424f-dae2-c019772ae100"
      },
      "source": [
        "X_test.shape"
      ],
      "execution_count": null,
      "outputs": []
    },
    {
      "cell_type": "code",
      "metadata": {
        "id": "0D16KV7AShLf",
        "colab": {
          "base_uri": "https://localhost:8080/",
          "height": 34
        },
        "outputId": "e0868516-ee2d-471a-d1e8-3bb365618297"
      },
      "source": [
        "y_test.shape"
      ],
      "execution_count": null,
      "outputs": []
    },
    {
      "cell_type": "markdown",
      "metadata": {
        "id": "sAew9X3uPIfX"
      },
      "source": [
        "## Regressão polinomial"
      ]
    },
    {
      "cell_type": "markdown",
      "metadata": {
        "id": "hEq0xD_HpNTO"
      },
      "source": [
        "### Construção do modelo"
      ]
    },
    {
      "cell_type": "code",
      "metadata": {
        "id": "dB1daYmWTgml"
      },
      "source": [
        "from sklearn.preprocessing import PolynomialFeatures"
      ],
      "execution_count": null,
      "outputs": []
    },
    {
      "cell_type": "code",
      "metadata": {
        "id": "RltZE787TpGd"
      },
      "source": [
        "poly = PolynomialFeatures(degree=4)\n",
        "X_train_poly = poly.fit_transform(X_train)\n",
        "X_test_poly = poly.transform(X_test)"
      ],
      "execution_count": null,
      "outputs": []
    },
    {
      "cell_type": "code",
      "metadata": {
        "id": "cyYXTn0kUbie",
        "colab": {
          "base_uri": "https://localhost:8080/",
          "height": 34
        },
        "outputId": "b113c8b1-8652-407e-e4f0-0a5d5bf5ef47"
      },
      "source": [
        "X_train_poly.shape"
      ],
      "execution_count": null,
      "outputs": []
    },
    {
      "cell_type": "code",
      "metadata": {
        "id": "gxD4OJDfUiqX",
        "colab": {
          "base_uri": "https://localhost:8080/",
          "height": 34
        },
        "outputId": "5a9f2d6f-f0cb-4dac-e429-7150e5320d3d"
      },
      "source": [
        "X_test_poly.shape"
      ],
      "execution_count": null,
      "outputs": []
    },
    {
      "cell_type": "code",
      "metadata": {
        "id": "sUcRZFBAUni3",
        "colab": {
          "base_uri": "https://localhost:8080/",
          "height": 353
        },
        "outputId": "6c531b02-69ac-4d2c-88e8-39ab869ca7fd"
      },
      "source": [
        "X_test_poly"
      ],
      "execution_count": null,
      "outputs": []
    },
    {
      "cell_type": "code",
      "metadata": {
        "id": "McTunJklUwZb",
        "colab": {
          "base_uri": "https://localhost:8080/",
          "height": 34
        },
        "outputId": "7fca8b24-b7fe-441e-a711-2d8e3ad023d7"
      },
      "source": [
        "from sklearn.linear_model import LinearRegression\n",
        "regressor = LinearRegression()\n",
        "regressor.fit(X_train_poly, y_train)"
      ],
      "execution_count": null,
      "outputs": []
    },
    {
      "cell_type": "markdown",
      "metadata": {
        "id": "Stdh2HzlpnmO"
      },
      "source": [
        "### Previsões"
      ]
    },
    {
      "cell_type": "code",
      "metadata": {
        "id": "qVevGr-lV2bm",
        "colab": {
          "base_uri": "https://localhost:8080/",
          "height": 185
        },
        "outputId": "4e0de296-de2d-490d-b60a-075c329a1f30"
      },
      "source": [
        "poly_test_pred = regressor.predict(X_test_poly)\n",
        "poly_test_pred"
      ],
      "execution_count": null,
      "outputs": []
    },
    {
      "cell_type": "code",
      "metadata": {
        "id": "cKHq_ag6WKZX",
        "colab": {
          "base_uri": "https://localhost:8080/",
          "height": 185
        },
        "outputId": "ff21d321-74af-4578-c26e-922cd952f180"
      },
      "source": [
        "y_test"
      ],
      "execution_count": null,
      "outputs": []
    },
    {
      "cell_type": "code",
      "metadata": {
        "id": "eYiBtZf3WeRx",
        "colab": {
          "base_uri": "https://localhost:8080/",
          "height": 282
        },
        "outputId": "1957455d-23a7-442b-b72d-19cf3862df01"
      },
      "source": [
        "plt.plot(poly_test_pred, linestyle = 'dashed')\n",
        "plt.plot(y_test)"
      ],
      "execution_count": null,
      "outputs": []
    },
    {
      "cell_type": "code",
      "metadata": {
        "id": "Jh4GSLGLWrdf",
        "colab": {
          "base_uri": "https://localhost:8080/",
          "height": 67
        },
        "outputId": "48feabb7-f457-472d-eed1-33c8e05fe994"
      },
      "source": [
        "print('MAE:', mean_absolute_error(poly_test_pred, y_test))\n",
        "print('MSE:', mean_squared_error(poly_test_pred, y_test))\n",
        "print('RMSE:', np.sqrt(mean_absolute_error(poly_test_pred, y_test)))"
      ],
      "execution_count": null,
      "outputs": []
    },
    {
      "cell_type": "code",
      "metadata": {
        "id": "Yf24Kas8XRld",
        "colab": {
          "base_uri": "https://localhost:8080/",
          "height": 34
        },
        "outputId": "9625752e-94da-4aa3-df63-5c67bc8a7efc"
      },
      "source": [
        "forecast.shape"
      ],
      "execution_count": null,
      "outputs": []
    },
    {
      "cell_type": "code",
      "metadata": {
        "id": "rSkLKbUCXWRp",
        "colab": {
          "base_uri": "https://localhost:8080/",
          "height": 34
        },
        "outputId": "65044b35-21e5-4230-fa43-651167275d1c"
      },
      "source": [
        "X_train_all = poly.transform(forecast)\n",
        "X_train_all.shape"
      ],
      "execution_count": null,
      "outputs": []
    },
    {
      "cell_type": "code",
      "metadata": {
        "id": "jyeg5b1mXjqH",
        "colab": {
          "base_uri": "https://localhost:8080/",
          "height": 34
        },
        "outputId": "64e5625e-3206-42ff-9835-bce9f1bc24c2"
      },
      "source": [
        "poly_pred_all = regressor.predict(X_train_all)\n",
        "len(poly_pred_all)"
      ],
      "execution_count": null,
      "outputs": []
    },
    {
      "cell_type": "code",
      "metadata": {
        "id": "tfbuBdQTXxsG",
        "colab": {
          "base_uri": "https://localhost:8080/",
          "height": 295
        },
        "outputId": "4994b8c7-6e73-423b-f81d-2dc808a9842e"
      },
      "source": [
        "plt.plot(forecast[:-10], y, color='red')\n",
        "plt.plot(forecast, poly_pred_all, linestyle='dashed')\n",
        "plt.title('Deaths of COVID-19')\n",
        "plt.xlabel('Days since 1/22/2020')\n",
        "plt.ylabel('Number of deaths')\n",
        "plt.legend(['Death cases', 'Predictions']);"
      ],
      "execution_count": null,
      "outputs": []
    }
  ]
}